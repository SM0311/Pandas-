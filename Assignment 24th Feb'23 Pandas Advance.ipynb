{
 "cells": [
  {
   "cell_type": "markdown",
   "id": "6e7a55af-f951-4e91-8577-e81e4d787a1c",
   "metadata": {},
   "source": [
    "Q1. List any five functions of the pandas library with execution."
   ]
  },
  {
   "cell_type": "markdown",
   "id": "f55fc472-c2c2-4b0a-aa41-d69c1533e1e0",
   "metadata": {},
   "source": [
    "Answer1 - \n",
    "\n",
    "1. read_csv(): This function is used to read a CSV file and create a DataFrame object.\n",
    "\n",
    "Example - \n",
    "        \n",
    "        import pandas as pd\n",
    "        df = pd.read_csv(\"data.csv\")\n",
    "        \n",
    "2. head(): This function is used to display the first few rows of a DataFrame.\n",
    "example -         \n",
    "                \n",
    "                print(df.head())\n",
    "\n",
    "\n",
    "3. describe(): This function is used to generate descriptive statistics of a DataFrame, such as count, mean, standard deviation, etc.\n",
    "Example - \n",
    "\n",
    "             print(df.describe())\n",
    "4. groupby(): This function is used to group a DataFrame by one or more columns and perform an operation on the groups.\n",
    "Example - \n",
    "          \n",
    "          df_grouped = df.groupby(['category']).sum()\n",
    "\n",
    "5. merge(): This function is used to combine two DataFrames based on a common column.\n",
    "Example - \n",
    "                 \n",
    "         df_merged = pd.merge(df1, df2, on='id')\n"
   ]
  },
  {
   "cell_type": "markdown",
   "id": "84951400-1826-4535-a754-b0f3a103c5e8",
   "metadata": {},
   "source": [
    "Q2. Given a Pandas DataFrame df with columns 'A', 'B', and 'C', write a Python function to re-index the DataFrame with a new index that starts from 1 and increments by 2 for each row."
   ]
  },
  {
   "cell_type": "code",
   "execution_count": 2,
   "id": "a3ed0d4f-8371-4662-941f-7e93ad61896c",
   "metadata": {},
   "outputs": [],
   "source": [
    "#Answer - \n",
    "\n",
    "import pandas as pd\n",
    "\n",
    "def reindex_df(df):\n",
    "    new_index = pd.RangeIndex(start=1, step=2, stop=len(df)*2)\n",
    "    df.index = new_index\n",
    "    return df"
   ]
  },
  {
   "cell_type": "code",
   "execution_count": 3,
   "id": "fc5752de-a3c0-4995-a584-29f6faa0a9c8",
   "metadata": {},
   "outputs": [],
   "source": [
    "df = pd.DataFrame({'A': [1, 2, 3], 'B': [4, 5, 6], 'C': [7, 8, 9]})"
   ]
  },
  {
   "cell_type": "code",
   "execution_count": 4,
   "id": "1ac3b65a-44e7-4ec8-be40-04cd440ebba9",
   "metadata": {},
   "outputs": [
    {
     "data": {
      "text/html": [
       "<div>\n",
       "<style scoped>\n",
       "    .dataframe tbody tr th:only-of-type {\n",
       "        vertical-align: middle;\n",
       "    }\n",
       "\n",
       "    .dataframe tbody tr th {\n",
       "        vertical-align: top;\n",
       "    }\n",
       "\n",
       "    .dataframe thead th {\n",
       "        text-align: right;\n",
       "    }\n",
       "</style>\n",
       "<table border=\"1\" class=\"dataframe\">\n",
       "  <thead>\n",
       "    <tr style=\"text-align: right;\">\n",
       "      <th></th>\n",
       "      <th>A</th>\n",
       "      <th>B</th>\n",
       "      <th>C</th>\n",
       "    </tr>\n",
       "  </thead>\n",
       "  <tbody>\n",
       "    <tr>\n",
       "      <th>0</th>\n",
       "      <td>1</td>\n",
       "      <td>4</td>\n",
       "      <td>7</td>\n",
       "    </tr>\n",
       "    <tr>\n",
       "      <th>1</th>\n",
       "      <td>2</td>\n",
       "      <td>5</td>\n",
       "      <td>8</td>\n",
       "    </tr>\n",
       "    <tr>\n",
       "      <th>2</th>\n",
       "      <td>3</td>\n",
       "      <td>6</td>\n",
       "      <td>9</td>\n",
       "    </tr>\n",
       "  </tbody>\n",
       "</table>\n",
       "</div>"
      ],
      "text/plain": [
       "   A  B  C\n",
       "0  1  4  7\n",
       "1  2  5  8\n",
       "2  3  6  9"
      ]
     },
     "execution_count": 4,
     "metadata": {},
     "output_type": "execute_result"
    }
   ],
   "source": [
    "df"
   ]
  },
  {
   "cell_type": "code",
   "execution_count": 5,
   "id": "184f1a1a-384a-4466-9d32-950804984909",
   "metadata": {},
   "outputs": [],
   "source": [
    "df = reindex_df(df)"
   ]
  },
  {
   "cell_type": "code",
   "execution_count": 6,
   "id": "fb64b1b4-d099-4813-91ed-8b5b75238d43",
   "metadata": {},
   "outputs": [
    {
     "data": {
      "text/html": [
       "<div>\n",
       "<style scoped>\n",
       "    .dataframe tbody tr th:only-of-type {\n",
       "        vertical-align: middle;\n",
       "    }\n",
       "\n",
       "    .dataframe tbody tr th {\n",
       "        vertical-align: top;\n",
       "    }\n",
       "\n",
       "    .dataframe thead th {\n",
       "        text-align: right;\n",
       "    }\n",
       "</style>\n",
       "<table border=\"1\" class=\"dataframe\">\n",
       "  <thead>\n",
       "    <tr style=\"text-align: right;\">\n",
       "      <th></th>\n",
       "      <th>A</th>\n",
       "      <th>B</th>\n",
       "      <th>C</th>\n",
       "    </tr>\n",
       "  </thead>\n",
       "  <tbody>\n",
       "    <tr>\n",
       "      <th>1</th>\n",
       "      <td>1</td>\n",
       "      <td>4</td>\n",
       "      <td>7</td>\n",
       "    </tr>\n",
       "    <tr>\n",
       "      <th>3</th>\n",
       "      <td>2</td>\n",
       "      <td>5</td>\n",
       "      <td>8</td>\n",
       "    </tr>\n",
       "    <tr>\n",
       "      <th>5</th>\n",
       "      <td>3</td>\n",
       "      <td>6</td>\n",
       "      <td>9</td>\n",
       "    </tr>\n",
       "  </tbody>\n",
       "</table>\n",
       "</div>"
      ],
      "text/plain": [
       "   A  B  C\n",
       "1  1  4  7\n",
       "3  2  5  8\n",
       "5  3  6  9"
      ]
     },
     "execution_count": 6,
     "metadata": {},
     "output_type": "execute_result"
    }
   ],
   "source": [
    "df"
   ]
  },
  {
   "cell_type": "markdown",
   "id": "973a184d-7601-4c43-b267-62c2c2196a72",
   "metadata": {},
   "source": [
    "Q3. You have a Pandas DataFrame df with a column named 'Values'. Write a Python function that iterates over the DataFrame and calculates the sum of the first three values in the 'Values' column. The function should print the sum to the console."
   ]
  },
  {
   "cell_type": "code",
   "execution_count": 7,
   "id": "ddc0acc1-a45e-4680-96c5-fc648e027645",
   "metadata": {},
   "outputs": [
    {
     "name": "stdout",
     "output_type": "stream",
     "text": [
      "60\n"
     ]
    }
   ],
   "source": [
    "#Answer 3 -\n",
    "\n",
    "import pandas as pd\n",
    "\n",
    "def sum_first_three_values(df):\n",
    "    total = 0\n",
    "    for i in range(3):\n",
    "        total += df.loc[i, 'Values']\n",
    "    print(total)\n",
    "    \n",
    "df = pd.DataFrame({'Values': [10, 20, 30, 40, 50]})\n",
    "sum_first_three_values(df)\n"
   ]
  },
  {
   "cell_type": "markdown",
   "id": "d9eff05b-c35e-4388-9f54-dd977c1f73ad",
   "metadata": {},
   "source": [
    "Q4. Given a Pandas DataFrame df with a column 'Text', write a Python function to create a new column 'Word_Count' that contains the number of words in each row of the 'Text' column."
   ]
  },
  {
   "cell_type": "code",
   "execution_count": 8,
   "id": "f1b6ebb6-8cbe-4aee-b298-eff39d885d80",
   "metadata": {},
   "outputs": [
    {
     "name": "stdout",
     "output_type": "stream",
     "text": [
      "                   Text  Word_Count\n",
      "0    This is a sentence           4\n",
      "1      Another sentence           2\n",
      "2  And a third sentence           4\n"
     ]
    }
   ],
   "source": [
    "import pandas as pd\n",
    "\n",
    "def add_word_count_column(df):\n",
    "    df['Word_Count'] = df['Text'].str.split().apply(len)\n",
    "    return df\n",
    "\n",
    "# create a sample dataframe\n",
    "data = {'Text': ['This is a sentence', 'Another sentence', 'And a third sentence']}\n",
    "df = pd.DataFrame(data)\n",
    "\n",
    "# add the word count column\n",
    "df = add_word_count_column(df)\n",
    "\n",
    "print(df)"
   ]
  },
  {
   "cell_type": "markdown",
   "id": "7c85f61a-cca7-42e0-b78b-0ff1707eb60b",
   "metadata": {},
   "source": [
    "Q5. How are DataFrame.size() and DataFrame.shape() different?"
   ]
  },
  {
   "cell_type": "markdown",
   "id": "3e67d854-0a6e-4d7c-aa5a-f23df1096d5a",
   "metadata": {},
   "source": [
    "Answer 5. DataFrame.size and DataFrame.shape are two different methods in Pandas DataFrame that are used to obtain different information about the DataFrame.\n",
    "\n",
    "1. DataFrame.size method returns the number of elements in the DataFrame, i.e., the total number of cells in the DataFrame. This method returns an integer value.\n",
    "\n",
    "For instance -- "
   ]
  },
  {
   "cell_type": "code",
   "execution_count": 9,
   "id": "a704528f-7389-4890-b495-d3d963c5aec8",
   "metadata": {},
   "outputs": [],
   "source": [
    "df2 = pd.DataFrame({'A':[1,2,3], 'B': [4,5,6]})"
   ]
  },
  {
   "cell_type": "code",
   "execution_count": 10,
   "id": "ffb6fcce-0939-4769-9ed8-07ce5c6d229e",
   "metadata": {},
   "outputs": [
    {
     "data": {
      "text/plain": [
       "6"
      ]
     },
     "execution_count": 10,
     "metadata": {},
     "output_type": "execute_result"
    }
   ],
   "source": [
    "df2.size"
   ]
  },
  {
   "cell_type": "markdown",
   "id": "35dff7e5-187f-4bed-8106-449b7590620b",
   "metadata": {},
   "source": [
    "2. DataFrame.shape method returns a tuple representing the dimensions of the DataFrame, i.e., the number of rows and columns in the DataFrame. This method returns a tuple of integers.\n",
    "\n",
    "For example - -"
   ]
  },
  {
   "cell_type": "code",
   "execution_count": 11,
   "id": "ecb8e940-59f8-405a-847c-f70f71c640af",
   "metadata": {},
   "outputs": [],
   "source": [
    "df3 = pd.DataFrame({'A':[1,2,3], 'B': [4,5,6]})"
   ]
  },
  {
   "cell_type": "code",
   "execution_count": 12,
   "id": "3c8c6217-c779-4b6c-8b7a-33fbc21a1224",
   "metadata": {},
   "outputs": [
    {
     "data": {
      "text/plain": [
       "(3, 2)"
      ]
     },
     "execution_count": 12,
     "metadata": {},
     "output_type": "execute_result"
    }
   ],
   "source": [
    "df3.shape"
   ]
  },
  {
   "cell_type": "markdown",
   "id": "037c8eef-a15b-4bbc-96ef-cd3d21c2a5ff",
   "metadata": {},
   "source": [
    "In summary, DataFrame.size returns the total number of elements in the DataFrame, whereas DataFrame.shape returns a tuple of integers representing the dimensions of the DataFrame."
   ]
  },
  {
   "cell_type": "markdown",
   "id": "7ac01b48-68e0-4bf7-907a-f68892c70610",
   "metadata": {},
   "source": [
    "Q6. Which function of pandas do we use to read an excel file?"
   ]
  },
  {
   "cell_type": "markdown",
   "id": "48a445b2-8156-4e1b-8e7b-3218a4e3f368",
   "metadata": {},
   "source": [
    "Answer -- To read an Excel file in pandas, we use the read_excel() function. This function is part of the pandas library and can be used to read data from an Excel file into a pandas DataFrame.\n",
    "\n"
   ]
  },
  {
   "cell_type": "code",
   "execution_count": 13,
   "id": "97b4c765-02d7-4702-99fd-9a94d43ac6e6",
   "metadata": {},
   "outputs": [],
   "source": [
    "df4 = pd.read_excel('Datatype_Precision_Nullability_Example.xlsx')"
   ]
  },
  {
   "cell_type": "code",
   "execution_count": 14,
   "id": "3469c397-599b-4042-9456-61fc24f73d54",
   "metadata": {},
   "outputs": [
    {
     "data": {
      "text/html": [
       "<div>\n",
       "<style scoped>\n",
       "    .dataframe tbody tr th:only-of-type {\n",
       "        vertical-align: middle;\n",
       "    }\n",
       "\n",
       "    .dataframe tbody tr th {\n",
       "        vertical-align: top;\n",
       "    }\n",
       "\n",
       "    .dataframe thead th {\n",
       "        text-align: right;\n",
       "    }\n",
       "</style>\n",
       "<table border=\"1\" class=\"dataframe\">\n",
       "  <thead>\n",
       "    <tr style=\"text-align: right;\">\n",
       "      <th></th>\n",
       "      <th>Unnamed: 0</th>\n",
       "      <th>Unnamed: 1</th>\n",
       "      <th>Unnamed: 2</th>\n",
       "      <th>Unnamed: 3</th>\n",
       "      <th>Unnamed: 4</th>\n",
       "      <th>Unnamed: 5</th>\n",
       "      <th>Unnamed: 6</th>\n",
       "      <th>Unnamed: 7</th>\n",
       "      <th>Unnamed: 8</th>\n",
       "      <th>Unnamed: 9</th>\n",
       "      <th>Unnamed: 10</th>\n",
       "      <th>Unnamed: 11</th>\n",
       "      <th>Unnamed: 12</th>\n",
       "    </tr>\n",
       "  </thead>\n",
       "  <tbody>\n",
       "    <tr>\n",
       "      <th>0</th>\n",
       "      <td>NaN</td>\n",
       "      <td>NaN</td>\n",
       "      <td>Emp</td>\n",
       "      <td>NaN</td>\n",
       "      <td>NaN</td>\n",
       "      <td>NaN</td>\n",
       "      <td>NaN</td>\n",
       "      <td>NaN</td>\n",
       "      <td>NaN</td>\n",
       "      <td>NaN</td>\n",
       "      <td>NaN</td>\n",
       "      <td>NaN</td>\n",
       "      <td>NaN</td>\n",
       "    </tr>\n",
       "    <tr>\n",
       "      <th>1</th>\n",
       "      <td>NaN</td>\n",
       "      <td>Emp_ID</td>\n",
       "      <td>Emp_Name</td>\n",
       "      <td>Dept_ID</td>\n",
       "      <td>DOJ</td>\n",
       "      <td>NaN</td>\n",
       "      <td>Datatype</td>\n",
       "      <td>NaN</td>\n",
       "      <td>NaN</td>\n",
       "      <td>NaN</td>\n",
       "      <td>NaN</td>\n",
       "      <td>NaN</td>\n",
       "      <td>NaN</td>\n",
       "    </tr>\n",
       "    <tr>\n",
       "      <th>2</th>\n",
       "      <td>NaN</td>\n",
       "      <td>1</td>\n",
       "      <td>A</td>\n",
       "      <td>D01</td>\n",
       "      <td>2023-08-02 00:00:00</td>\n",
       "      <td>NaN</td>\n",
       "      <td>Precision</td>\n",
       "      <td>NaN</td>\n",
       "      <td>NaN</td>\n",
       "      <td>NaN</td>\n",
       "      <td>NaN</td>\n",
       "      <td>NaN</td>\n",
       "      <td>NaN</td>\n",
       "    </tr>\n",
       "    <tr>\n",
       "      <th>3</th>\n",
       "      <td>NaN</td>\n",
       "      <td>2</td>\n",
       "      <td>B</td>\n",
       "      <td>D02</td>\n",
       "      <td>2023-09-14 00:00:00</td>\n",
       "      <td>NaN</td>\n",
       "      <td>Nullability</td>\n",
       "      <td>Empty/Blank/0byte/Nothing-NULL, Atleast 1 byte...</td>\n",
       "      <td>NaN</td>\n",
       "      <td>NaN</td>\n",
       "      <td>NaN</td>\n",
       "      <td>NaN</td>\n",
       "      <td>NaN</td>\n",
       "    </tr>\n",
       "    <tr>\n",
       "      <th>4</th>\n",
       "      <td>NaN</td>\n",
       "      <td>3</td>\n",
       "      <td>C</td>\n",
       "      <td>D03</td>\n",
       "      <td>2023-10-28 00:00:00</td>\n",
       "      <td>NaN</td>\n",
       "      <td>NaN</td>\n",
       "      <td>NaN</td>\n",
       "      <td>NaN</td>\n",
       "      <td>NaN</td>\n",
       "      <td>NaN</td>\n",
       "      <td>SAM</td>\n",
       "      <td></td>\n",
       "    </tr>\n",
       "    <tr>\n",
       "      <th>5</th>\n",
       "      <td>NaN</td>\n",
       "      <td>4</td>\n",
       "      <td>D</td>\n",
       "      <td>D04</td>\n",
       "      <td>2023-11-07 00:00:00</td>\n",
       "      <td>NaN</td>\n",
       "      <td>NaN</td>\n",
       "      <td>NaN</td>\n",
       "      <td>NaN</td>\n",
       "      <td>NaN</td>\n",
       "      <td>NaN</td>\n",
       "      <td>Not NULL</td>\n",
       "      <td>Not NULL</td>\n",
       "    </tr>\n",
       "    <tr>\n",
       "      <th>6</th>\n",
       "      <td>NaN</td>\n",
       "      <td>NaN</td>\n",
       "      <td>NaN</td>\n",
       "      <td>NaN</td>\n",
       "      <td>NaN</td>\n",
       "      <td>NaN</td>\n",
       "      <td>NaN</td>\n",
       "      <td>NaN</td>\n",
       "      <td>NaN</td>\n",
       "      <td>NaN</td>\n",
       "      <td>NOTE - Space is also occupying bytes two space...</td>\n",
       "      <td>NaN</td>\n",
       "      <td>NaN</td>\n",
       "    </tr>\n",
       "    <tr>\n",
       "      <th>7</th>\n",
       "      <td>Datatype</td>\n",
       "      <td>Numeric(7)</td>\n",
       "      <td>char</td>\n",
       "      <td>varchar</td>\n",
       "      <td>Date</td>\n",
       "      <td>NaN</td>\n",
       "      <td>NaN</td>\n",
       "      <td>256-max precision</td>\n",
       "      <td>the precision can't be too less or too more</td>\n",
       "      <td>NaN</td>\n",
       "      <td>NaN</td>\n",
       "      <td>NaN</td>\n",
       "      <td>NaN</td>\n",
       "    </tr>\n",
       "    <tr>\n",
       "      <th>8</th>\n",
       "      <td>NaN</td>\n",
       "      <td>INT-8 bytes(can't be more than 8-bytes that’s ...</td>\n",
       "      <td>NaN</td>\n",
       "      <td>NaN</td>\n",
       "      <td>NaN</td>\n",
       "      <td>NaN</td>\n",
       "      <td>NaN</td>\n",
       "      <td>NaN</td>\n",
       "      <td>NaN</td>\n",
       "      <td>NaN</td>\n",
       "      <td>NaN</td>\n",
       "      <td>NaN</td>\n",
       "      <td>NaN</td>\n",
       "    </tr>\n",
       "    <tr>\n",
       "      <th>9</th>\n",
       "      <td>NaN</td>\n",
       "      <td>NaN</td>\n",
       "      <td>NaN</td>\n",
       "      <td>NaN</td>\n",
       "      <td>NaN</td>\n",
       "      <td>NaN</td>\n",
       "      <td>NaN</td>\n",
       "      <td>NaN</td>\n",
       "      <td>NaN</td>\n",
       "      <td>NaN</td>\n",
       "      <td>NaN</td>\n",
       "      <td>NaN</td>\n",
       "      <td>NaN</td>\n",
       "    </tr>\n",
       "    <tr>\n",
       "      <th>10</th>\n",
       "      <td>Precision</td>\n",
       "      <td>Number of bytes(max or min)</td>\n",
       "      <td>NaN</td>\n",
       "      <td>NaN</td>\n",
       "      <td>NaN</td>\n",
       "      <td>NaN</td>\n",
       "      <td>NaN</td>\n",
       "      <td>NaN</td>\n",
       "      <td>NaN</td>\n",
       "      <td>NaN</td>\n",
       "      <td>NaN</td>\n",
       "      <td>NaN</td>\n",
       "      <td>NaN</td>\n",
       "    </tr>\n",
       "    <tr>\n",
       "      <th>11</th>\n",
       "      <td>NaN</td>\n",
       "      <td>9999999</td>\n",
       "      <td>NaN</td>\n",
       "      <td>NaN</td>\n",
       "      <td>NaN</td>\n",
       "      <td>NaN</td>\n",
       "      <td>NaN</td>\n",
       "      <td>NaN</td>\n",
       "      <td>NaN</td>\n",
       "      <td>NaN</td>\n",
       "      <td>NaN</td>\n",
       "      <td>NaN</td>\n",
       "      <td>NaN</td>\n",
       "    </tr>\n",
       "  </tbody>\n",
       "</table>\n",
       "</div>"
      ],
      "text/plain": [
       "   Unnamed: 0                                         Unnamed: 1 Unnamed: 2  \\\n",
       "0         NaN                                                NaN        Emp   \n",
       "1         NaN                                             Emp_ID   Emp_Name   \n",
       "2         NaN                                                  1          A   \n",
       "3         NaN                                                  2          B   \n",
       "4         NaN                                                  3          C   \n",
       "5         NaN                                                  4          D   \n",
       "6         NaN                                                NaN        NaN   \n",
       "7    Datatype                                         Numeric(7)       char   \n",
       "8         NaN  INT-8 bytes(can't be more than 8-bytes that’s ...        NaN   \n",
       "9         NaN                                                NaN        NaN   \n",
       "10  Precision                        Number of bytes(max or min)        NaN   \n",
       "11        NaN                                            9999999        NaN   \n",
       "\n",
       "   Unnamed: 3           Unnamed: 4  Unnamed: 5   Unnamed: 6  \\\n",
       "0         NaN                  NaN         NaN          NaN   \n",
       "1     Dept_ID                  DOJ         NaN     Datatype   \n",
       "2         D01  2023-08-02 00:00:00         NaN    Precision   \n",
       "3         D02  2023-09-14 00:00:00         NaN  Nullability   \n",
       "4         D03  2023-10-28 00:00:00         NaN          NaN   \n",
       "5         D04  2023-11-07 00:00:00         NaN          NaN   \n",
       "6         NaN                  NaN         NaN          NaN   \n",
       "7     varchar                 Date         NaN          NaN   \n",
       "8         NaN                  NaN         NaN          NaN   \n",
       "9         NaN                  NaN         NaN          NaN   \n",
       "10        NaN                  NaN         NaN          NaN   \n",
       "11        NaN                  NaN         NaN          NaN   \n",
       "\n",
       "                                           Unnamed: 7  \\\n",
       "0                                                 NaN   \n",
       "1                                                 NaN   \n",
       "2                                                 NaN   \n",
       "3   Empty/Blank/0byte/Nothing-NULL, Atleast 1 byte...   \n",
       "4                                                 NaN   \n",
       "5                                                 NaN   \n",
       "6                                                 NaN   \n",
       "7                                   256-max precision   \n",
       "8                                                 NaN   \n",
       "9                                                 NaN   \n",
       "10                                                NaN   \n",
       "11                                                NaN   \n",
       "\n",
       "                                     Unnamed: 8  Unnamed: 9  \\\n",
       "0                                           NaN         NaN   \n",
       "1                                           NaN         NaN   \n",
       "2                                           NaN         NaN   \n",
       "3                                           NaN         NaN   \n",
       "4                                           NaN         NaN   \n",
       "5                                           NaN         NaN   \n",
       "6                                           NaN         NaN   \n",
       "7   the precision can't be too less or too more         NaN   \n",
       "8                                           NaN         NaN   \n",
       "9                                           NaN         NaN   \n",
       "10                                          NaN         NaN   \n",
       "11                                          NaN         NaN   \n",
       "\n",
       "                                          Unnamed: 10 Unnamed: 11 Unnamed: 12  \n",
       "0                                                 NaN         NaN         NaN  \n",
       "1                                                 NaN         NaN         NaN  \n",
       "2                                                 NaN         NaN         NaN  \n",
       "3                                                 NaN         NaN         NaN  \n",
       "4                                                 NaN         SAM              \n",
       "5                                                 NaN    Not NULL    Not NULL  \n",
       "6   NOTE - Space is also occupying bytes two space...         NaN         NaN  \n",
       "7                                                 NaN         NaN         NaN  \n",
       "8                                                 NaN         NaN         NaN  \n",
       "9                                                 NaN         NaN         NaN  \n",
       "10                                                NaN         NaN         NaN  \n",
       "11                                                NaN         NaN         NaN  "
      ]
     },
     "execution_count": 14,
     "metadata": {},
     "output_type": "execute_result"
    }
   ],
   "source": [
    "df4"
   ]
  },
  {
   "cell_type": "markdown",
   "id": "d7ac8fc5-fe73-4db7-9306-4934064edf19",
   "metadata": {},
   "source": [
    "Q7. You have a Pandas DataFrame df that contains a column named 'Email' that contains email addresses in the format 'username@domain.com'. Write a Python function that creates a new column 'Username' in df that contains only the username part of each email address.\n",
    "\n",
    "The username is the part of the email address that appears before the '@' symbol. For example, if the email address is 'john.doe@example.com', the 'Username' column should contain 'john.doe'. Your function should extract the username from each email address and store it in the new 'Username'\n",
    "column."
   ]
  },
  {
   "cell_type": "code",
   "execution_count": 15,
   "id": "bbf92e44-c384-4252-af6d-4994eaec8654",
   "metadata": {},
   "outputs": [
    {
     "name": "stdout",
     "output_type": "stream",
     "text": [
      "                     Email     Username\n",
      "0     john.doe@example.com     john.doe\n",
      "1   jane.smith@example.com   jane.smith\n",
      "2  bob.johnson@example.com  bob.johnson\n"
     ]
    }
   ],
   "source": [
    "import pandas as pd\n",
    "\n",
    "def extract_username(df):\n",
    "    # extract username from email address\n",
    "    df['Username'] = df['Email'].str.split('@').str[0]\n",
    "    return df\n",
    "\n",
    "# create a sample DataFrame with 'Email' column\n",
    "data = {'Email': ['john.doe@example.com', 'jane.smith@example.com', 'bob.johnson@example.com']}\n",
    "df = pd.DataFrame(data)\n",
    "\n",
    "# call the extract_username function\n",
    "df = extract_username(df)\n",
    "\n",
    "# print the updated DataFrame\n",
    "print(df)"
   ]
  },
  {
   "cell_type": "markdown",
   "id": "89a53390-72fb-4f19-9201-298b8859e0b3",
   "metadata": {},
   "source": [
    "Q8. You have a Pandas DataFrame df with columns 'A', 'B', and 'C'. Write a Python function that selects\n",
    "all rows where the value in column 'A' is greater than 5 and the value in column 'B' is less than 10. The\n",
    "function should return a new DataFrame that contains only the selected rows.\n"
   ]
  },
  {
   "cell_type": "markdown",
   "id": "936826ee-bd2d-4601-bdfb-ff661412180f",
   "metadata": {},
   "source": [
    "For example, if df contains the following values:\n",
    "A B C\n",
    "0 3 5 1\n",
    "1 8 2 7\n",
    "2 6 9 4\n",
    "3 2 3 5\n",
    "4 9 1 2\n",
    "\n",
    "\n",
    "Your function should select the following rows: A B C\n",
    "1 8 2 7\n",
    "4 9 1 2\n",
    "The function should return a new DataFrame that contains only the selected rows."
   ]
  },
  {
   "cell_type": "code",
   "execution_count": 16,
   "id": "ec99552b-3e1d-43b5-9cff-bdf32688fd65",
   "metadata": {},
   "outputs": [
    {
     "name": "stdout",
     "output_type": "stream",
     "text": [
      "   A  B  C\n",
      "1  8  2  7\n",
      "2  6  9  4\n",
      "4  9  1  2\n"
     ]
    }
   ],
   "source": [
    "import pandas as pd\n",
    "\n",
    "def select_rows(df):\n",
    "    #select rows based on condition\n",
    "    selected_rows = df[(df['A']>5) & (df['B']<10)]\n",
    "    return selected_rows\n",
    "\n",
    "#create a sample Dataframe\n",
    "data = {'A': [3,8,6,2,9], 'B': [5,2,9,3,1], 'C': [1,7,4,5,2]}\n",
    "df = pd.DataFrame(data)\n",
    "\n",
    "#call the select_rows function\n",
    "selected_rows = select_rows(df)\n",
    "\n",
    "#print the selected_rows\n",
    "print(selected_rows)"
   ]
  },
  {
   "cell_type": "markdown",
   "id": "0c44aa6c-f504-4d86-b29f-7b247460198b",
   "metadata": {},
   "source": [
    "Q9. Given a Pandas DataFrame df with a column 'Values', write a Python function to calculate the mean, median, and standard deviation of the values in the 'Values' column."
   ]
  },
  {
   "cell_type": "code",
   "execution_count": 18,
   "id": "2597e641-9e01-46a7-80e3-8a5295705c07",
   "metadata": {},
   "outputs": [
    {
     "name": "stdout",
     "output_type": "stream",
     "text": [
      "Mean: 3.0\n",
      "Median: 3.0\n",
      "Standard Deviation: 1.5811388300841898\n"
     ]
    }
   ],
   "source": [
    "import pandas as pd\n",
    "\n",
    "def calculate_statistics(df):\n",
    "    # calculate mean, median, and standard deviation\n",
    "    mean = df['Values'].mean()\n",
    "    median = df['Values'].median()\n",
    "    std_dev = df['Values'].std()\n",
    "    \n",
    "    # print the results\n",
    "    print(\"Mean:\", mean)\n",
    "    print(\"Median:\", median)\n",
    "    print(\"Standard Deviation:\", std_dev)\n",
    "\n",
    "# create a sample DataFrame\n",
    "data = {'Values': [1, 2, 3, 4, 5]}\n",
    "df = pd.DataFrame(data)\n",
    "\n",
    "# call the calculate_statistics function\n",
    "calculate_statistics(df)"
   ]
  },
  {
   "cell_type": "markdown",
   "id": "542dc7cc-1c08-467e-a672-db7087a29beb",
   "metadata": {},
   "source": [
    "Q10. Given a Pandas DataFrame df with a column 'Sales' and a column 'Date', write a Python function to create a new column 'MovingAverage' that contains the moving average of the sales for the past 7 days\n",
    "for each row in the DataFrame. The moving average should be calculated using a window of size 7 and should include the current day."
   ]
  },
  {
   "cell_type": "code",
   "execution_count": 19,
   "id": "3d7aa77f-12bb-4cf2-99c0-6bd616b74345",
   "metadata": {},
   "outputs": [
    {
     "name": "stdout",
     "output_type": "stream",
     "text": [
      "        Date  Sales  MovingAverage\n",
      "0 2022-01-01     10           10.0\n",
      "1 2022-01-02     15           12.5\n",
      "2 2022-01-03     20           15.0\n",
      "3 2022-01-04     25           17.5\n",
      "4 2022-01-05     30           20.0\n",
      "5 2022-01-06     35           22.5\n",
      "6 2022-01-07     40           25.0\n",
      "7 2022-01-08     45           30.0\n",
      "8 2022-01-09     50           35.0\n",
      "9 2022-01-10     55           40.0\n"
     ]
    }
   ],
   "source": [
    "import pandas as pd\n",
    "\n",
    "def add_moving_average(df):\n",
    "    # calculate moving average using a window of size 7 and include current day\n",
    "    ma = df['Sales'].rolling(window=7, min_periods=1).mean()\n",
    "    \n",
    "    # add moving average as a new column in the DataFrame\n",
    "    df['MovingAverage'] = ma\n",
    "    \n",
    "    # return the modified DataFrame\n",
    "    return df\n",
    "\n",
    "# create a sample DataFrame\n",
    "data = {'Date': pd.date_range('2022-01-01', '2022-01-10'), 'Sales': [10, 15, 20, 25, 30, 35, 40, 45, 50, 55]}\n",
    "df = pd.DataFrame(data)\n",
    "\n",
    "# call the add_moving_average function\n",
    "df = add_moving_average(df)\n",
    "\n",
    "# print the modified DataFrame\n",
    "print(df)"
   ]
  },
  {
   "cell_type": "markdown",
   "id": "266fdb9a-d945-4756-9851-1d458b1dd463",
   "metadata": {},
   "source": [
    "Q11. You have a Pandas DataFrame df with a column 'Date'. Write a Python function that creates a new column 'Weekday' in the DataFrame. The 'Weekday' column should contain the weekday name (e.g. Monday, Tuesday) corresponding to each date in the 'Date' column."
   ]
  },
  {
   "cell_type": "markdown",
   "id": "9c27adf8-fe31-41a0-8c43-2499fa747b34",
   "metadata": {},
   "source": [
    "For example, if df contains the following values:\n",
    "Date\n",
    "0 2023-01-01\n",
    "1 2023-01-02\n",
    "2 2023-01-03\n",
    "3 2023-01-04\n",
    "4 2023-01-05\n",
    "Your function should create the following DataFrame:\n",
    "\n",
    "Date Weekday\n",
    "0 2023-01-01 Sunday\n",
    "1 2023-01-02 Monday\n",
    "2 2023-01-03 Tuesday\n",
    "3 2023-01-04 Wednesday\n",
    "4 2023-01-05 Thursday\n",
    "The function should return the modified DataFrame."
   ]
  },
  {
   "cell_type": "code",
   "execution_count": 20,
   "id": "613db14c-751c-4e68-a8a0-ab63ee576370",
   "metadata": {},
   "outputs": [
    {
     "name": "stdout",
     "output_type": "stream",
     "text": [
      "        Date    Weekday\n",
      "0 2023-01-01     Sunday\n",
      "1 2023-01-02     Monday\n",
      "2 2023-01-03    Tuesday\n",
      "3 2023-01-04  Wednesday\n",
      "4 2023-01-05   Thursday\n"
     ]
    }
   ],
   "source": [
    "import pandas as pd\n",
    "\n",
    "def add_weekday(df):\n",
    "    df['Weekday'] = df['Date'].dt.day_name()\n",
    "    return df\n",
    "\n",
    "df = pd.DataFrame({'Date': ['2023-01-01', '2023-01-02', '2023-01-03', '2023-01-04', '2023-01-05']})\n",
    "df['Date'] = pd.to_datetime(df['Date'])\n",
    "df = add_weekday(df)\n",
    "print(df)"
   ]
  },
  {
   "cell_type": "markdown",
   "id": "c5816b5b-6fa5-48c2-bd23-5a0de485aa31",
   "metadata": {},
   "source": [
    "Q12. Given a Pandas DataFrame df with a column 'Date' that contains timestamps, write a Python function to select all rows where the date is between '2023-01-01' and '2023-01-31'."
   ]
  },
  {
   "cell_type": "code",
   "execution_count": 21,
   "id": "debd4ad4-ea84-4b63-81d6-8e893594c619",
   "metadata": {},
   "outputs": [
    {
     "name": "stdout",
     "output_type": "stream",
     "text": [
      "         Date\n",
      "0  2023-01-01\n",
      "1  2023-01-02\n",
      "2  2023-05-02\n",
      "3  2023-05-19\n",
      "4  2023-05-21\n",
      "         Date\n",
      "0  2023-01-01\n",
      "1  2023-01-02\n"
     ]
    }
   ],
   "source": [
    "import pandas as pd\n",
    "\n",
    "def select_rows_between_dates(df):\n",
    "    start_date = '2023-01-01'\n",
    "    end_date = '2023-01-31'\n",
    "    mask = (df['Date'] >= start_date) & (df['Date'] <= end_date)\n",
    "    selected_rows = df.loc[mask]\n",
    "    return selected_rows\n",
    "\n",
    "df = pd.DataFrame({'Date': ['2023-01-01', '2023-01-02', '2023-05-02', '2023-05-19', '2023-05-21']})\n",
    "selected_rows = select_rows_between_dates(df)\n",
    "print(df)\n",
    "print(selected_rows)"
   ]
  },
  {
   "cell_type": "markdown",
   "id": "becb19bc-c18f-4ce8-aeb8-cc4c763210a2",
   "metadata": {},
   "source": [
    "Q13. To use the basic functions of pandas, what is the first and foremost necessary library that needs to be imported?"
   ]
  },
  {
   "cell_type": "markdown",
   "id": "1d525a7c-e758-4ec4-8a48-ba41532679e9",
   "metadata": {},
   "source": [
    "Answer - To use the basic functions of pandas, the first and foremost necessary library that needs to be imported is pandas itself. You can import it using the following command:"
   ]
  },
  {
   "cell_type": "code",
   "execution_count": 22,
   "id": "ca1e5b16-bfe6-4e1a-b951-2b22e26cc6aa",
   "metadata": {},
   "outputs": [],
   "source": [
    "import pandas as pd"
   ]
  },
  {
   "cell_type": "code",
   "execution_count": null,
   "id": "12e48e2d-8a86-40e0-9e9f-159b1bc6015c",
   "metadata": {},
   "outputs": [],
   "source": []
  }
 ],
 "metadata": {
  "kernelspec": {
   "display_name": "Python 3 (ipykernel)",
   "language": "python",
   "name": "python3"
  },
  "language_info": {
   "codemirror_mode": {
    "name": "ipython",
    "version": 3
   },
   "file_extension": ".py",
   "mimetype": "text/x-python",
   "name": "python",
   "nbconvert_exporter": "python",
   "pygments_lexer": "ipython3",
   "version": "3.10.8"
  }
 },
 "nbformat": 4,
 "nbformat_minor": 5
}
